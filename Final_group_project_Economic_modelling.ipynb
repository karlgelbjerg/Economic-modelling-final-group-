{
  "nbformat": 4,
  "nbformat_minor": 0,
  "metadata": {
    "colab": {
      "provenance": [],
      "authorship_tag": "ABX9TyPzfvpZ7qL3oDPQQR5HlkIw",
      "include_colab_link": true
    },
    "kernelspec": {
      "name": "python3",
      "display_name": "Python 3"
    },
    "language_info": {
      "name": "python"
    }
  },
  "cells": [
    {
      "cell_type": "markdown",
      "metadata": {
        "id": "view-in-github",
        "colab_type": "text"
      },
      "source": [
        "<a href=\"https://colab.research.google.com/github/karlgelbjerg/Economic-modelling-final-group-/blob/main/Final_group_project_Economic_modelling.ipynb\" target=\"_parent\"><img src=\"https://colab.research.google.com/assets/colab-badge.svg\" alt=\"Open In Colab\"/></a>"
      ]
    },
    {
      "cell_type": "code",
      "execution_count": 5,
      "metadata": {
        "colab": {
          "base_uri": "https://localhost:8080/",
          "height": 687
        },
        "id": "eXyzaMGH1UeA",
        "outputId": "31aab643-2f19-4b11-e51f-4bfed323a667"
      },
      "outputs": [
        {
          "output_type": "display_data",
          "data": {
            "text/plain": [
              "<Figure size 800x600 with 1 Axes>"
            ],
            "image/png": "[encoded data removed]"
          },
          "metadata": {}
        },
        {
          "output_type": "display_data",
          "data": {
            "text/plain": [
              "<IPython.core.display.Markdown object>"
            ],
            "text/markdown": "*Confusion Matrix:*\n[[1260    0    0]\n [   0   75    0]\n [   0    0  665]]"
          },
          "metadata": {}
        },
        {
          "output_type": "display_data",
          "data": {
            "text/plain": [
              "<IPython.core.display.Markdown object>"
            ],
            "text/markdown": "*Accuracy:* 1.00"
          },
          "metadata": {}
        },
        {
          "output_type": "display_data",
          "data": {
            "text/plain": [
              "<IPython.core.display.Markdown object>"
            ],
            "text/markdown": "*Precision:* 1.00"
          },
          "metadata": {}
        },
        {
          "output_type": "display_data",
          "data": {
            "text/plain": [
              "<IPython.core.display.Markdown object>"
            ],
            "text/markdown": "*Recall:* 1.00"
          },
          "metadata": {}
        },
        {
          "output_type": "display_data",
          "data": {
            "text/plain": [
              "<IPython.core.display.Markdown object>"
            ],
            "text/markdown": "*F1 Score:* 1.00"
          },
          "metadata": {}
        }
      ],
      "source": [
        "import pandas as pd\n",
        "import numpy as np\n",
        "from sklearn.model_selection import train_test_split\n",
        "from sklearn.ensemble import RandomForestClassifier\n",
        "from sklearn.metrics import confusion_matrix, accuracy_score, precision_score, recall_score, f1_score\n",
        "from sklearn.calibration import CalibratedClassifierCV\n",
        "import matplotlib.pyplot as plt\n",
        "import seaborn as sns\n",
        "from IPython.display import display, Markdown\n",
        "\n",
        "# function that draw the cards\n",
        "def draw_card():\n",
        "    card = np.random.choice(['2', '3', '4', '5', '6', '7', '8', '9', '10', 'J', 'Q', 'K', 'A'])\n",
        "    if card in ['J', 'Q', 'K']:\n",
        "        return 10\n",
        "    elif card == 'A':\n",
        "        return 11\n",
        "    else:\n",
        "        return int(card)\n",
        "\n",
        "# function to calculate the best hand\n",
        "def hand_value(hand):\n",
        "    value = sum(hand)\n",
        "    num_aces = hand.count(11)\n",
        "    while value > 21 and num_aces:\n",
        "        value -= 10\n",
        "        num_aces -= 1\n",
        "    return value\n",
        "\n",
        "# blackjack dataset\n",
        "def simulate_blackjack_games(num_games=10000):\n",
        "    data = []\n",
        "    for _ in range(num_games):\n",
        "        player_hand = [draw_card(), draw_card()]\n",
        "        dealer_hand = [draw_card(), draw_card()]\n",
        "\n",
        "        player_value = hand_value(player_hand)\n",
        "        dealer_value = hand_value(dealer_hand)\n",
        "\n",
        "        if player_value == 21:\n",
        "            result = 'win' if dealer_value != 21 else 'tie'\n",
        "        elif dealer_value == 21:\n",
        "            result = 'lose'\n",
        "        else:\n",
        "            while player_value < 21 and np.random.rand() > 0.5:\n",
        "                player_hand.append(draw_card())\n",
        "                player_value = hand_value(player_hand)\n",
        "\n",
        "            while dealer_value < 17:\n",
        "                dealer_hand.append(draw_card())\n",
        "                dealer_value = hand_value(dealer_hand)\n",
        "\n",
        "            if player_value > 21:\n",
        "                result = 'lose'\n",
        "            elif dealer_value > 21 or player_value > dealer_value:\n",
        "                result = 'win'\n",
        "            elif player_value < dealer_value:\n",
        "                result = 'lose'\n",
        "            else:\n",
        "                result = 'tie'\n",
        "\n",
        "        data.append({\n",
        "            'player_value': player_value,\n",
        "            'dealer_value': dealer_value,\n",
        "            'player_card_count': len(player_hand),\n",
        "            'result': result\n",
        "        })\n",
        "\n",
        "    return pd.DataFrame(data)\n",
        "\n",
        "# generate the database\n",
        "blackjack_data = simulate_blackjack_games(10000)\n",
        "blackjack_data['result'] = blackjack_data['result'].map({'win': 1, 'lose': -1, 'tie': 0})\n",
        "\n",
        "X = blackjack_data[['player_value', 'dealer_value', 'player_card_count']]\n",
        "y = blackjack_data['result']\n",
        "\n",
        "X_train, X_test, y_train, y_test = train_test_split(X, y, test_size=0.2, random_state=42)   #test_size = 20% so confusion matrix reflects the predictions made on the test size, 2,000 games.\n",
        "\n",
        "rf_model = RandomForestClassifier(random_state=42)\n",
        "rf_model.fit(X_train, y_train)\n",
        "\n",
        "calibrated_rf = CalibratedClassifierCV(estimator=rf_model, method='isotonic', cv='prefit')\n",
        "calibrated_rf.fit(X_test, y_test)\n",
        "\n",
        "y_pred = calibrated_rf.predict(X_test)\n",
        "\n",
        "cm = confusion_matrix(y_test, y_pred)\n",
        "accuracy = accuracy_score(y_test, y_pred)\n",
        "precision = precision_score(y_test, y_pred, average='weighted')\n",
        "recall = recall_score(y_test, y_pred, average='weighted')\n",
        "f1 = f1_score(y_test, y_pred, average='weighted')\n",
        "\n",
        "# this is the function to print the confusion matrix, we add markdown, which is a function that improves the design display of the results when printed\n",
        "def display_evaluation_metrics(cm, accuracy, precision, recall, f1):\n",
        "    plt.figure(figsize=(8, 6))\n",
        "    sns.heatmap(cm, annot=True, fmt=\"d\", cmap=\"Blues\", cbar=False,\n",
        "                xticklabels=['Lose', 'Tie', 'Win'], yticklabels=['Lose', 'Tie', 'Win'])\n",
        "    plt.xlabel('Predicted labels')\n",
        "    plt.ylabel('True labels')\n",
        "    plt.title('Confusion Matrix')\n",
        "    plt.show()\n",
        "    display(Markdown(f\"*Confusion Matrix:*\\n{cm}\"))       #gives a detailed breakdown of correct and incorrect predictions for each issue in the blackjack.\n",
        "    display(Markdown(f\"*Accuracy:* {accuracy:.2f}\"))      #gives the overall correctness of the model's predictions\n",
        "    display(Markdown(f\"*Precision:* {precision:.2f}\"))    #gives the percentage of correct positive predictions out of all positive predictions made by the model (how many wins predicted by the model compared to how many wins really hapenned)\n",
        "    display(Markdown(f\"*Recall:* {recall:.2f}\"))          #gives the  ratio of true positive predictions to the total number of actual positive instances ( how many wins predicted by the model compared to the amout of win in the game)\n",
        "    display(Markdown(f\"*F1 Score:* {f1:.2f}\"))            # mean of precision and recall (2 * (Precision * Recall) / (Precision + Recall)) that gives a balanced result of the two.\n",
        "\n",
        "# print the metrics\n",
        "display_evaluation_metrics(cm, accuracy, precision, recall, f1)\n",
        "\n",
        "\n",
        "\n",
        "#confusion matrix : x games predicted as losses are actual losses. x games predicted as ties are actual ties. x games predicted as wins are actual wins.\n",
        "#Accuracy : model correctly predicts the outcome of every game\n",
        "#Precision : the model predicts an outcome (win, lose, or tie)\n",
        "#Recall : model detected all actual outcomes without missing one\n",
        "#F1 Score : model achieves a perfect balance between precision and recall"
      ]
    }
  ]
}